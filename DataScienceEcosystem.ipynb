{
 "cells": [
  {
   "cell_type": "markdown",
   "id": "26655343-7e0a-4674-8fad-37c8fafafa57",
   "metadata": {
    "tags": []
   },
   "source": [
    "# Data Science Tools and Ecosystems"
   ]
  },
  {
   "cell_type": "markdown",
   "id": "52e8b818-d915-457d-a650-7cf4a36d3751",
   "metadata": {},
   "source": [
    "## Author\n",
    "Louis Baker"
   ]
  },
  {
   "cell_type": "markdown",
   "id": "4e36eadb-3c0e-4795-a3fb-ceb5c30b3c20",
   "metadata": {},
   "source": [
    "In this notebook, Data Science Tools and Ecosystem are summarized."
   ]
  },
  {
   "cell_type": "markdown",
   "id": "135e4916-5e5a-4411-808c-16594e78e5e3",
   "metadata": {},
   "source": [
    "**Objectives:**\n",
    "* List popular languages for Data Science.\n",
    "* List libraries commonly used by Data Scientists.\n",
    "* List tools used by Data Scientists.\n",
    "* Demonstrate understanding of evaluating arithmetic expressions in Python.\n",
    "* Demonstrate how to create headers, lists, and tables in markdown cells."
   ]
  },
  {
   "cell_type": "markdown",
   "id": "edb4d482-e4db-4c0b-85b4-07fc7b3da793",
   "metadata": {},
   "source": [
    "Some of the popular languages that Data Scientists use are:\n",
    "1. R\n",
    "2. Python\n",
    "3. SQL"
   ]
  },
  {
   "cell_type": "markdown",
   "id": "0e377de2-05d2-41a3-8862-285a92b11da4",
   "metadata": {
    "tags": []
   },
   "source": [
    "Some of the commonly used libraries used by Data Scientists include:\n",
    "1. Pandas\n",
    "2. NumPy\n",
    "3. Tensorflow"
   ]
  },
  {
   "cell_type": "markdown",
   "id": "7847ebac-22d2-4cb7-ac42-52ceec74f979",
   "metadata": {},
   "source": [
    "| Data Science Tools |\n",
    "| ----- |\n",
    "|JupyterLab|\n",
    "|RStudio|\n",
    "|Github|"
   ]
  },
  {
   "cell_type": "markdown",
   "id": "bc625fcb-8deb-4516-9136-7c879f7a3f94",
   "metadata": {},
   "source": [
    "### Below are a few examples of evaluating arithmetic expressions in Python:\n"
   ]
  },
  {
   "cell_type": "code",
   "execution_count": 3,
   "id": "d858d400-4933-462a-92ae-9b7d70e76ef1",
   "metadata": {
    "tags": []
   },
   "outputs": [
    {
     "data": {
      "text/plain": [
       "17"
      ]
     },
     "execution_count": 3,
     "metadata": {},
     "output_type": "execute_result"
    }
   ],
   "source": [
    "# This a simple arithmetic expression to mutiply then add integers\n",
    "(3*4)+5"
   ]
  },
  {
   "cell_type": "code",
   "execution_count": 15,
   "id": "ebaab940-93c7-42cf-970c-9d8ad8dfcb0c",
   "metadata": {
    "tags": []
   },
   "outputs": [
    {
     "name": "stdout",
     "output_type": "stream",
     "text": [
      "3.3333333333333335  hours.\n",
      "3  hours and  20  minutes.\n"
     ]
    }
   ],
   "source": [
    "# This will convert 200 minutes to hours by dividing by 60:\n",
    "print((200 / 60), ' hours.')\n",
    "\n",
    "# Or, alternatively:\n",
    "hours = int(200 / 60)\n",
    "minutes = 200 % 60\n",
    "print(hours, ' hours and ', minutes, ' minutes.')"
   ]
  }
 ],
 "metadata": {
  "kernelspec": {
   "display_name": "Python 3 (ipykernel)",
   "language": "python",
   "name": "python3"
  },
  "language_info": {
   "codemirror_mode": {
    "name": "ipython",
    "version": 3
   },
   "file_extension": ".py",
   "mimetype": "text/x-python",
   "name": "python",
   "nbconvert_exporter": "python",
   "pygments_lexer": "ipython3",
   "version": "3.11.4"
  }
 },
 "nbformat": 4,
 "nbformat_minor": 5
}
